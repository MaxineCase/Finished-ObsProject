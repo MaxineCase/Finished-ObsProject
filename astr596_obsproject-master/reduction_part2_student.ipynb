{
 "cells": [
  {
   "cell_type": "markdown",
   "metadata": {},
   "source": [
    "<h2>OBSERVATIONAL ASTROPHYSICS – FALL 2019 Reduction Exercise: Part 2</h2>\n",
    "\n",
    "In Part 1 you constructed images that were overscan subtracted and trimmed.\n",
    "\n",
    "In Part 2 you will will:\n",
    "\n",
    "1. combine your bias frames to make a master bias frame;\n",
    "2. bias subtract all your images;\n",
    "3. make a combined flatfield image in each band;\n",
    "4. flatfield the flatfield images and science images;\n",
    "\n",
    "Remember that your raw data are stored in ~/RFSLAB/USER_DPT/_PUBLIC/ASTR596/Data/Raw/< your night>\n",
    "and your reduced images are stored in ~/RFSLAB/USER_DPT/< KUID>/ASTR596/Data/Reduced/< your_night> "
   ]
  },
  {
   "cell_type": "code",
   "execution_count": 1,
   "metadata": {},
   "outputs": [],
   "source": [
    "import numpy as np\n",
    "from astropy import units as u\n",
    "from astropy.nddata import CCDData\n",
    "import ccdproc\n",
    "from matplotlib import pyplot as plt\n",
    "from ccdproc import Combiner\n",
    "from astropy.io import ascii\n",
    "import numpy as np\n",
    "from astropy import units as u\n",
    "from astropy.nddata import CCDData\n",
    "import ccdproc\n",
    "from matplotlib import pyplot as plt\n",
    "from ccdproc import Combiner\n",
    "from astropy.io import ascii\n",
    "from astropy.io import fits\n",
    "import os, glob, time"
   ]
  },
  {
   "cell_type": "markdown",
   "metadata": {},
   "source": [
    "You will first read in bias images and combine them using the \"Combiner\" task described at https://ccdproc.readthedocs.io/en/latest/image_combination.html\n",
    "\n",
    "Make sure to read the section on sigma-clipping, which describes how we generate maskes for comining and eventually combine the images.  \n",
    "\n",
    "As a first step you will need to make a set of lists that contain files.  You can name the lists what you'd like, e.g. biaslist, but you'll need to make sure that they are in the right places in the program:\n",
    "1. biaslist: all of your good trimmed bias frames\n",
    "2. flatlist_< band>: all of the trimmed flatfields corresponding to a given band\n",
    "3. science_< band>_< target>: all of the science frames for each target in each band"
   ]
  },
  {
   "cell_type": "code",
   "execution_count": 2,
   "metadata": {},
   "outputs": [],
   "source": [
    "rawpath = \"/home/b739c775/RFSLAB/USER_DPT/b739c775/ASTR596/Data/Raw/\"\n",
    "redpath = \"/home/b739c775/RFSLAB/USER_DPT/b739c775/ASTR596/Data/ReducedData/\"\n",
    "flatpath = \"/home/b739c775/RFSLAB/USER_DPT/b739c775/ASTR596/Data/Flatcorrected/\"\n",
    "\n",
    "biaslist = \"biaslist\"\n",
    "biaslistpath = redpath + biaslist"
   ]
  },
  {
   "cell_type": "code",
   "execution_count": 2,
   "metadata": {},
   "outputs": [
    {
     "ename": "KeyboardInterrupt",
     "evalue": "",
     "output_type": "error",
     "traceback": [
      "\u001b[0;31m---------------------------------------------------------------------------\u001b[0m",
      "\u001b[0;31mKeyboardInterrupt\u001b[0m                         Traceback (most recent call last)",
      "\u001b[0;32m<ipython-input-2-1d4838e29d4c>\u001b[0m in \u001b[0;36m<module>\u001b[0;34m\u001b[0m\n\u001b[1;32m     32\u001b[0m \u001b[0;34m\u001b[0m\u001b[0m\n\u001b[1;32m     33\u001b[0m \u001b[0;31m#Combiner list of all bias images\u001b[0m\u001b[0;34m\u001b[0m\u001b[0;34m\u001b[0m\u001b[0;34m\u001b[0m\u001b[0m\n\u001b[0;32m---> 34\u001b[0;31m \u001b[0mbias_comb\u001b[0m \u001b[0;34m=\u001b[0m \u001b[0mCombiner\u001b[0m\u001b[0;34m(\u001b[0m\u001b[0mbias_imlist\u001b[0m\u001b[0;34m)\u001b[0m\u001b[0;34m\u001b[0m\u001b[0;34m\u001b[0m\u001b[0m\n\u001b[0m\u001b[1;32m     35\u001b[0m \u001b[0;34m\u001b[0m\u001b[0m\n\u001b[1;32m     36\u001b[0m \u001b[0;31m#now create masks with sigma clipping algorithm\u001b[0m\u001b[0;34m\u001b[0m\u001b[0;34m\u001b[0m\u001b[0;34m\u001b[0m\u001b[0m\n",
      "\u001b[0;32m~/.conda/envs/python3env/lib/python3.7/site-packages/ccdproc/combiner.py\u001b[0m in \u001b[0;36m__init__\u001b[0;34m(self, ccd_list, dtype)\u001b[0m\n\u001b[1;32m     97\u001b[0m         \u001b[0;31m# populate self.data_arr\u001b[0m\u001b[0;34m\u001b[0m\u001b[0;34m\u001b[0m\u001b[0;34m\u001b[0m\u001b[0m\n\u001b[1;32m     98\u001b[0m         \u001b[0;32mfor\u001b[0m \u001b[0mi\u001b[0m\u001b[0;34m,\u001b[0m \u001b[0mccd\u001b[0m \u001b[0;32min\u001b[0m \u001b[0menumerate\u001b[0m\u001b[0;34m(\u001b[0m\u001b[0mccd_list\u001b[0m\u001b[0;34m)\u001b[0m\u001b[0;34m:\u001b[0m\u001b[0;34m\u001b[0m\u001b[0;34m\u001b[0m\u001b[0m\n\u001b[0;32m---> 99\u001b[0;31m             \u001b[0mself\u001b[0m\u001b[0;34m.\u001b[0m\u001b[0mdata_arr\u001b[0m\u001b[0;34m[\u001b[0m\u001b[0mi\u001b[0m\u001b[0;34m]\u001b[0m \u001b[0;34m=\u001b[0m \u001b[0mccd\u001b[0m\u001b[0;34m.\u001b[0m\u001b[0mdata\u001b[0m\u001b[0;34m\u001b[0m\u001b[0;34m\u001b[0m\u001b[0m\n\u001b[0m\u001b[1;32m    100\u001b[0m             \u001b[0;32mif\u001b[0m \u001b[0mccd\u001b[0m\u001b[0;34m.\u001b[0m\u001b[0mmask\u001b[0m \u001b[0;32mis\u001b[0m \u001b[0;32mnot\u001b[0m \u001b[0;32mNone\u001b[0m\u001b[0;34m:\u001b[0m\u001b[0;34m\u001b[0m\u001b[0;34m\u001b[0m\u001b[0m\n\u001b[1;32m    101\u001b[0m                 \u001b[0mself\u001b[0m\u001b[0;34m.\u001b[0m\u001b[0mdata_arr\u001b[0m\u001b[0;34m.\u001b[0m\u001b[0mmask\u001b[0m\u001b[0;34m[\u001b[0m\u001b[0mi\u001b[0m\u001b[0;34m]\u001b[0m \u001b[0;34m=\u001b[0m \u001b[0mccd\u001b[0m\u001b[0;34m.\u001b[0m\u001b[0mmask\u001b[0m\u001b[0;34m\u001b[0m\u001b[0;34m\u001b[0m\u001b[0m\n",
      "\u001b[0;32m~/.conda/envs/python3env/lib/python3.7/site-packages/numpy/ma/core.py\u001b[0m in \u001b[0;36m__setitem__\u001b[0;34m(self, indx, value)\u001b[0m\n\u001b[1;32m   3327\u001b[0m         \u001b[0;32melif\u001b[0m \u001b[0;32mnot\u001b[0m \u001b[0mself\u001b[0m\u001b[0;34m.\u001b[0m\u001b[0m_hardmask\u001b[0m\u001b[0;34m:\u001b[0m\u001b[0;34m\u001b[0m\u001b[0;34m\u001b[0m\u001b[0m\n\u001b[1;32m   3328\u001b[0m             \u001b[0;31m# Set the data, then the mask\u001b[0m\u001b[0;34m\u001b[0m\u001b[0;34m\u001b[0m\u001b[0;34m\u001b[0m\u001b[0m\n\u001b[0;32m-> 3329\u001b[0;31m             \u001b[0m_data\u001b[0m\u001b[0;34m[\u001b[0m\u001b[0mindx\u001b[0m\u001b[0;34m]\u001b[0m \u001b[0;34m=\u001b[0m \u001b[0mdval\u001b[0m\u001b[0;34m\u001b[0m\u001b[0;34m\u001b[0m\u001b[0m\n\u001b[0m\u001b[1;32m   3330\u001b[0m             \u001b[0m_mask\u001b[0m\u001b[0;34m[\u001b[0m\u001b[0mindx\u001b[0m\u001b[0;34m]\u001b[0m \u001b[0;34m=\u001b[0m \u001b[0mmval\u001b[0m\u001b[0;34m\u001b[0m\u001b[0;34m\u001b[0m\u001b[0m\n\u001b[1;32m   3331\u001b[0m         \u001b[0;32melif\u001b[0m \u001b[0mhasattr\u001b[0m\u001b[0;34m(\u001b[0m\u001b[0mindx\u001b[0m\u001b[0;34m,\u001b[0m \u001b[0;34m'dtype'\u001b[0m\u001b[0;34m)\u001b[0m \u001b[0;32mand\u001b[0m \u001b[0;34m(\u001b[0m\u001b[0mindx\u001b[0m\u001b[0;34m.\u001b[0m\u001b[0mdtype\u001b[0m \u001b[0;34m==\u001b[0m \u001b[0mMaskType\u001b[0m\u001b[0;34m)\u001b[0m\u001b[0;34m:\u001b[0m\u001b[0;34m\u001b[0m\u001b[0;34m\u001b[0m\u001b[0m\n",
      "\u001b[0;31mKeyboardInterrupt\u001b[0m: "
     ]
    }
   ],
   "source": [
    "\n",
    "\n",
    "\n",
    "#initialize list of bias frames\n",
    "bias_imlist = []\n",
    "#this way of opening the file ensures that it closes after the loop is done.\n",
    "with open(biaslistpath,'r') as fp:\n",
    "    #read first line\n",
    "    line = fp.readline()\n",
    "\n",
    "    #build the combine list of all images\n",
    "    #read every subsequent line\n",
    "    while line:\n",
    "        #this removes the trailing newline charactter and converts the output list to a scalar\n",
    "        imname = line.split()\n",
    "        imname = imname[0]\n",
    "        \n",
    "        #create the image name, including the path\n",
    "        imstr = redpath + imname\n",
    "        #read that into a CCDData object.  This allows you to specify a unit\n",
    "        im = CCDData.read(imstr)\n",
    "\n",
    "        #make a list of all the CCDData instances of each image\n",
    "        bias_imlist = bias_imlist + [im]\n",
    "\n",
    "        line = fp.readline()\n",
    "\n",
    "#Combiner list of all bias images\n",
    "bias_comb = Combiner(bias_imlist)\n",
    "\n",
    "#now create masks with sigma clipping algorithm\n",
    "#This creates a mask for each image that is the size of each image but which has 0 values\n",
    "#everywhere except those pixels in excess of low_thresh and high_thresh sigma from the median.\n",
    "#Those pixels get a value of 1\n",
    "#*************\n",
    "#given the number of pixels in your image how must you set high_thresh to avoid flagging more than\n",
    "#about 5 pixels because of expected statistical variations.  Assume the noise is distributed like a Gaussian.\n",
    "#Remember, you want to get rid of really deviant pixels, so if you set the threshold too high you won't\n",
    "#get rid of anything!\n",
    "bias_comb.sigma_clipping(low_thresh=3, high_thresh=5.5, func=np.ma.median)\n",
    "\n",
    "#Use these masks to combine the images.  This now becomes your master bias\n",
    "master_bias = bias_comb.average_combine()\n",
    "\n",
    "#now write out the master bias\n",
    "masterbiaspath = redpath + 'master_bias.fits'\n",
    "master_bias.write(masterbiaspath,overwrite=True)\n"
   ]
  },
  {
   "cell_type": "markdown",
   "metadata": {},
   "source": [
    "What follows is a function to subtract bias frame from a list of images"
   ]
  },
  {
   "cell_type": "code",
   "execution_count": 3,
   "metadata": {},
   "outputs": [],
   "source": [
    "def bias_sub(imlist_name, redpath, master_bias):\n",
    "    #go through each image in a list, subtract the master bias from that image, and write the image out again.\n",
    "    #imlist_name: the name of the file (without path) that contains the list of images to subtract the bias from\n",
    "    #redpath: the path of directory with your reduced data\n",
    "    #master_bias: the actual CCDData master bias, *not* the filename of the master bias fits file\n",
    "    masterbias = CCDData.read(redpath+master_bias)\n",
    "    imlistpath= redpath + imlist_name\n",
    "    with open(imlistpath,'r') as fp:\n",
    "        #read first line\n",
    "        line = fp.readline()\n",
    "\n",
    "        #read every subsequent line\n",
    "        while line:\n",
    "            #read in each file\n",
    "            imname = line.split()\n",
    "            imname = imname[0]\n",
    "            impath = redpath + imname\n",
    "            #load file into CCDData objet\n",
    "            im = CCDData.read(impath)\n",
    "            \n",
    "            #***********  \n",
    "            #insert appropriate expression from https://ccdproc.readthedocs.io/en/latest/image_combination.html\n",
    "            #subtract bias frame\n",
    "            im_bsub = ccdproc.subtract_bias(im, masterbias)\n",
    "            #now write out the file, replacing \".fits\" with \"b.fits\"\n",
    "            bsub_imname = imname.replace('.fits','b.fits',1)\n",
    "            #print(bsub_imname)\n",
    "            bsub_path = redpath + bsub_imname\n",
    "            im_bsub.write(bsub_path,overwrite=True)\n",
    "            line = fp.readline()\n",
    "\n"
   ]
  },
  {
   "cell_type": "markdown",
   "metadata": {},
   "source": [
    "now subtract the bias frames from all images"
   ]
  },
  {
   "cell_type": "code",
   "execution_count": 93,
   "metadata": {},
   "outputs": [
    {
     "name": "stdout",
     "output_type": "stream",
     "text": [
      "done\n"
     ]
    }
   ],
   "source": [
    "#**************\n",
    "#put in the appropriate file name for each of the flats and science frames\n",
    "#subtract bias from flats in each band (you will need two calls to this function)\n",
    "#bias_sub(\"flatlistR\", redpath, master_bias)\n",
    "#bias_sub(\"flatlistV\", redpath, master_bias)\n",
    "bias_sub(\"flatlistB\", redpath, \"master_bias.fits\")\n",
    "\n",
    "#subtract bias from science frames in each band.  You will need to do this for each band and each target\n",
    "#bias_sub(\"sciencelist_R_nova\",redpath,master_bias)\n",
    "#bias_sub(\"sciencelist_V_nova\",redpath,master_bias)\n",
    "#bias_sub(\"sciencelist_B_nova\",redpath,master_bias)\n",
    "#bias_sub(\"sciencelist_V_NGC7128\",redpath,master_bias)\n",
    "#bias_sub(\"sciencelist_B_NGC7128\",redpath,master_bias)\n",
    "print(\"done\")"
   ]
  },
  {
   "cell_type": "markdown",
   "metadata": {},
   "source": [
    "Now combine the flatfields into master flats.  In this process you will scale each object to their mean before combining.  \n",
    "\n",
    "Here we will use a median combination instead of a sigma clipping combination.  In the cell below please describe why this is a good idea."
   ]
  },
  {
   "cell_type": "markdown",
   "metadata": {},
   "source": [
    "<h4>Your answer here:</h4>"
   ]
  },
  {
   "cell_type": "markdown",
   "metadata": {},
   "source": [
    "Towards the bottom of this routine we will be using a \"Lambda\" function to normalize our images.  These are small anonymous throw-away functions that are only used once in a code.  Their use is described here https://www.python-course.eu/python3_lambda.php.  "
   ]
  },
  {
   "cell_type": "code",
   "execution_count": 14,
   "metadata": {},
   "outputs": [],
   "source": [
    "def master_flatmake(imlist_name, redpath, master_flatname):\n",
    "    #a function that makes a master flatfield, taking its flats from a list.  \n",
    "    #The process will be very similar to that for bias frames, though we \n",
    "    #1) normalize the frames before combining and \n",
    "    #2) make it a function as we may need to generate flats for mutliple bands\n",
    "\n",
    "    #imlist_name: the name of the file (without path) that contains the list of images that will be combined\n",
    "    #redpath: the path of directory with your reduced data\n",
    "    #master_flatname: the name of the combined master flatfield\n",
    "\n",
    "    imlistpath = redpath + imlist_name\n",
    "    i = 0\n",
    "   \n",
    "    #initialize list of flat frames\n",
    "    flat_imlist = []\n",
    "    #this way of opening the file ensures that it closes after the loop is done.\n",
    "    with open(imlistpath,'r') as fp:\n",
    "        #read first line\n",
    "        line = fp.readline()\n",
    "        #build the combine list of all images\n",
    "        #read every subsequent line\n",
    "        while line:\n",
    "            #this removes the trailing newline character and converts the output list to a scalar\n",
    "            imname = line.split()\n",
    "            imname = imname[0].replace('.fits','b.fits',1)\n",
    "           # i += 1\n",
    "            #print(i)\n",
    "            #create the image name, including the path\n",
    "            imstr = redpath + imname\n",
    "            #read that into a CCDData object.  This allows you to specify a unit\n",
    "            im = CCDData.read(imstr)\n",
    "            print('.')\n",
    " #           dither = np.asarray(im)\n",
    "  #          fill = np.full_like(np.ndarray(shape = (15,len(np.asarray(im)[0,:]))), np.ma.median(np.asarray(im)))\n",
    "   #         print(len(fill))\n",
    "    #        if i == 2:\n",
    "     #           dither = np.append(np.asarray(im)[15:,:], fill, axis = 0)\n",
    "      #      if i == 3:\n",
    "       #         dither = np.append(fill, np.asarray(im)[:(len(np.asarray(im)[0,:])-15),:], axis = 0)\n",
    "        #    #make a list of all the CCDData instances of each image\n",
    "         #   im.data = dither\n",
    "            #print(len(dither))\n",
    "            #print(len(im.data))\n",
    "            flat_imlist = flat_imlist + [im]\n",
    "            print(line)\n",
    "            line = fp.readline()\n",
    "    \n",
    "    #Combiner list of all flat images\n",
    "    flat_combiner = Combiner(flat_imlist)\n",
    "    #######################################\n",
    "    #this is an anonymous throw away function that takes an argument and is intended\n",
    "    #to be used just once.  In this case, the scaling functionality of the combiner is \n",
    "    #set to scale by the inverse of the mean, so images with high counts get scaled down and\n",
    "    #images wtih low counts get scaled up\n",
    "    scaling_func = lambda arr: 1/np.ma.average(arr)\n",
    "    flat_combiner.scaling = scaling_func\n",
    "    print(\":)\")\n",
    "    #combine the scaled images\n",
    "    #****************\n",
    "    #insert appropriate expression from https://ccdproc.readthedocs.io/en/latest/image_combination.html\n",
    "    master_flat = flat_combiner.median_combine()\n",
    "\n",
    "    #now write out the master flat\n",
    "    masterflatpath = redpath + master_flatname\n",
    "    master_flat.write(masterflatpath,overwrite=True)\n"
   ]
  },
  {
   "cell_type": "markdown",
   "metadata": {},
   "source": [
    "Now use this function to generate master flats"
   ]
  },
  {
   "cell_type": "code",
   "execution_count": 15,
   "metadata": {},
   "outputs": [
    {
     "name": "stdout",
     "output_type": "stream",
     "text": [
      ".\n",
      "f001_tr.fits\n",
      "\n",
      ".\n",
      "f002_tr.fits\n",
      "\n",
      ".\n",
      "f003_tr.fits\n",
      "\n",
      ".\n",
      "f004_tr.fits\n",
      "\n",
      ".\n",
      "f005_tr.fits\n",
      "\n",
      ":)\n",
      "done\n"
     ]
    }
   ],
   "source": [
    "#***********\n",
    "#make the appropriate calles to master_flatmake to make the flatfields. \n",
    "#Do this for each of your sets of flatfields\n",
    "#figure out what the missing argument is\n",
    "master_flatmake(\"flatlistB\", redpath, 'clippedmaster_flat_B.fits')\n",
    "#master_flatmake(\"flatlistV\", redpath, 'lacosmic_flat_V.fits')\n",
    "#master_flatmake(\"flatlistR\", redpath, 'lacosmic_flat_R.fits')\n",
    "print(\"done\")"
   ]
  },
  {
   "cell_type": "markdown",
   "metadata": {},
   "source": [
    "Write in the cell below how you can assess whether or not you have a good master flatfield.  What characteristics might you look for and does your master flatfield image have them.  Write also how your master flat differs from the individual flatfield images."
   ]
  },
  {
   "cell_type": "markdown",
   "metadata": {},
   "source": [
    "<h4>Your answer goes here:</h4>"
   ]
  },
  {
   "cell_type": "markdown",
   "metadata": {},
   "source": [
    "-------------------------------\n",
    "Now we will flatfield all of our science and flatfield images.  This is similar to the process for bias subtraction except that we will be dividing by the master flat, as opposed to subtracting the master bias."
   ]
  },
  {
   "cell_type": "code",
   "execution_count": 21,
   "metadata": {},
   "outputs": [],
   "source": [
    "def flat_corr(imlist_name, redpath,flatpath, masterflat_name):\n",
    "    #go through each image in a list, subtract the master bias from that image, and write the image out again.\n",
    "    #imlist_name: the name of the file (without path) that contains the list of images to subtract the bias from\n",
    "    #redpath: the path of directory with your reduced data\n",
    "    #master_name: the filename of the master flatfield\n",
    "\n",
    "    masterflat_path = redpath + masterflat_name\n",
    "    master_flat = CCDData.read(masterflat_path)\n",
    "    print(\".\")\n",
    "    imlistpath= redpath + imlist_name\n",
    "    with open(imlistpath,'r') as fp:\n",
    "        #read first line\n",
    "        line = fp.readline()\n",
    "\n",
    "        #read every subsequent line\n",
    "        while line:\n",
    "            #read in each file\n",
    "            imname = line.split()\n",
    "            imname = imname[0].replace(\".fits\", 'b.fits', 1)\n",
    "            impath = redpath + imname\n",
    "            #load file into CCDData objet\n",
    "            im = CCDData.read(impath)\n",
    "            \n",
    "            #***********  \n",
    "            #insert appropriate expression from https://ccdproc.readthedocs.io/en/latest/image_combination.html\n",
    "            #subtract bias frame\n",
    "            im_flat = ccdproc.flat_correct(im, master_flat)\n",
    "            print(line)\n",
    "            #now write out the file\n",
    "            saveimname = imname.replace('.fits','f.fits',1)\n",
    "\n",
    "            imflat_path = flatpath + saveimname\n",
    "            im_flat.write(imflat_path,overwrite=True)\n",
    "            line = fp.readline()\n",
    "\n"
   ]
  },
  {
   "cell_type": "code",
   "execution_count": 22,
   "metadata": {},
   "outputs": [
    {
     "name": "stdout",
     "output_type": "stream",
     "text": [
      ".\n",
      "s056_tr.fits\n",
      "\n",
      "s057_tr.fits\n",
      "\n",
      "s058_tr.fits\n",
      "\n",
      ".\n",
      "s064_tr.fits\n",
      "\n",
      "s065_tr.fits\n",
      "\n",
      "s066_tr.fits\n",
      "\n",
      "s067_tr.fits\n",
      "\n",
      "s068_tr.fits\n",
      "\n",
      "s069_tr.fits\n",
      "\n",
      "s070_tr.fits\n",
      "\n",
      "s071_tr.fits\n",
      "\n",
      "s072_tr.fits\n",
      "\n",
      "s073_tr.fits\n",
      "\n",
      "s074_tr.fits\n",
      "\n",
      "done\n"
     ]
    }
   ],
   "source": [
    "#*************\n",
    "#flatfield correct all the flats\n",
    "#put in the correct argument for the function\n",
    "flat_corr(\"sciencelist_B_nova\", redpath, flatpath, 'clippedmaster_flat_B.fits')\n",
    "#flat_corr(\"sciencelist_V_nova\", redpath, flatpath, 'clippedmaster_flat_V.fits')\n",
    "#flat_corr(\"sciencelist_R_nova\", redpath, flatpath, 'clippedmaster_flat_R.fits')\n",
    "#flatfield correct the science frames in each band\n",
    "flat_corr(\"sciencelist_B_NGC7128\",redpath, flatpath,'clippedmaster_flat_B.fits')\n",
    "#flat_corr(\"sciencelist_V_NGC7128\",redpath, flatpath,'clippedmaster_flat_V.fits')\n",
    "print(\"done\")"
   ]
  },
  {
   "cell_type": "markdown",
   "metadata": {},
   "source": [
    "**write in this cell how you can tell if your master flatfield in each band did a good job.  Be quantitative if possible.  Also write how the flatfielded science images look different from those before flatfielding.**\n",
    "\n",
    "A flatfield correction gets rid of circles from dust grains and the uneven detection of light across the ccd surface. So, any of those features remaining in the image likely means that the flatfield correction did not work well. The easiest way to tell is if the center of the image is distinctly brighter (especially in the dark/no object areas).\n",
    "This is also how they differ, with less washout the details of the image come through clearer and the comparative brightness between objects becomes closer to true."
   ]
  },
  {
   "cell_type": "code",
   "execution_count": 27,
   "metadata": {},
   "outputs": [],
   "source": [
    "def combineimage(imlist_name, redpath, flatpath, savename):\n",
    "    #a function that makes a master flatfield, taking its flats from a list.  \n",
    "    #The process will be very similar to that for bias frames, though we \n",
    "    #1) normalize the frames before combining and \n",
    "    #2) make it a function as we may need to generate flats for mutliple bands\n",
    "\n",
    "    #imlist_name: the name of the file (without path) that contains the list of images that will be combined\n",
    "    #redpath: the path of directory with your reduced data\n",
    "    #master_flatname: the name of the combined master flatfield\n",
    "   # mypath =  \"/home/b739c775/RFSLAB/USER_DPT/b739c775/ASTR596/Data/Flatcorrected/\"\n",
    "\n",
    "    imlistpath = redpath + imlist_name\n",
    "    imexppath = imlistpath+\"ex\"\n",
    "    mypath = \"/home/b739c775/Documents/astro596/astr596_obsproject-master2/astr596_obsproject-master/Images/\"\n",
    "\n",
    "\n",
    "    #initialize list of flat frames\n",
    "    imlist = []\n",
    "    explist = []\n",
    "    #this way of opening the file ensures that it closes after the loop is done.\n",
    "    with open(imlistpath,'r') as fp:\n",
    "        #read first line\n",
    "        line = fp.readline()\n",
    "\n",
    "        #build the combine list of all images\n",
    "        #read every subsequent line\n",
    "        while line:\n",
    "            #this removes the trailing newline charactter and converts the output list to a scalar\n",
    "            imname = line.split()\n",
    "            imname = imname[0].replace('.fits','bfy.fits',1)\n",
    "        \n",
    "            #create the image name, including the path\n",
    "            imstr = flatpath + imname\n",
    "            #read that into a CCDData object.  This allows you to specify a unit\n",
    "            im = CCDData.read(imstr)\n",
    "            #make a list of all the CCDData instances of each image\n",
    "            saveimlist = imlist + [im]\n",
    "\n",
    "            line = fp.readline()\n",
    "    with open(imexppath,'r') as ff:\n",
    "        #read first line\n",
    "        line = ff.readline()\n",
    "\n",
    "        #build the combine list of all images\n",
    "        #read every subsequent line\n",
    "        while line:\n",
    "            #this removes the trailing newline charactter and converts the output list to a scalar\n",
    "            exp = line.split()\n",
    "            print(exp[0])\n",
    "            #make a list of all the CCDData instances of each image\n",
    "            explist = explist + [float(exp[0])]\n",
    "            line = ff.readline()\n",
    "\n",
    "    #Combiner list of all flat images\n",
    "    explist = (np.ones_like(explist)/explist)\n",
    "    print(explist)\n",
    "    im_combiner = Combiner(saveimlist)\n",
    "    im_combiner.scaling = explist\n",
    "    #######################################\n",
    "    #this is an anonymous throw away function that takes an argument and is intended\n",
    "    #to be used just once.  In this case, the scaling functionality of the combiner is \n",
    "    #set to scale by the inverse of the mean, so images with high counts get scaled down and\n",
    "    #images wtih low counts get scaled up\n",
    "    hdr = fits.getdata(imname, header=True) \n",
    "    #combine the scaled images\n",
    "    #****************\n",
    "    #insert appropriate expression from https://ccdproc.readthedocs.io/en/latest/image_combination.html\n",
    "    image = im_combiner.median_combine()\n",
    "    cleanimage = ccdproc.cosmicray_lacosmic(image, sigclip=4)\n",
    "    hdr['EXP_TIME'] = 1.0\n",
    "    #this takes the header of the last file in the list writes it as the header of the combined file.\n",
    "    combined_img.meta = hdr\n",
    "    #now write out the master flat\n",
    "    masterflatpath = flatpath + savename\n",
    "    cleanimage.write(masterflatpath,overwrite=True)"
   ]
  },
  {
   "cell_type": "code",
   "execution_count": 29,
   "metadata": {},
   "outputs": [
    {
     "ename": "FileNotFoundError",
     "evalue": "[Errno 2] No such file or directory: '/home/b739c775/RFSLAB/USER_DPT/b739c775/ASTR596/Data/Flatcorrected/s052_trbfy.fits'",
     "output_type": "error",
     "traceback": [
      "\u001b[0;31m---------------------------------------------------------------------------\u001b[0m",
      "\u001b[0;31mFileNotFoundError\u001b[0m                         Traceback (most recent call last)",
      "\u001b[0;32m<ipython-input-29-f723111f400f>\u001b[0m in \u001b[0;36m<module>\u001b[0;34m\u001b[0m\n\u001b[0;32m----> 1\u001b[0;31m \u001b[0mcombineimage\u001b[0m\u001b[0;34m(\u001b[0m\u001b[0;34m\"sciencelist_R_nova\"\u001b[0m\u001b[0;34m,\u001b[0m\u001b[0mredpath\u001b[0m\u001b[0;34m,\u001b[0m \u001b[0mflatpath\u001b[0m\u001b[0;34m,\u001b[0m \u001b[0;34m\"NovaR.fits\"\u001b[0m\u001b[0;34m)\u001b[0m\u001b[0;34m\u001b[0m\u001b[0;34m\u001b[0m\u001b[0m\n\u001b[0m\u001b[1;32m      2\u001b[0m \u001b[0mcombineimage\u001b[0m\u001b[0;34m(\u001b[0m\u001b[0;34m\"sciencelist_V_nova\"\u001b[0m\u001b[0;34m,\u001b[0m\u001b[0mredpath\u001b[0m\u001b[0;34m,\u001b[0m \u001b[0mflatpath\u001b[0m\u001b[0;34m,\u001b[0m \u001b[0;34m\"NovaV.fits\"\u001b[0m\u001b[0;34m)\u001b[0m\u001b[0;34m\u001b[0m\u001b[0;34m\u001b[0m\u001b[0m\n\u001b[1;32m      3\u001b[0m \u001b[0mcombineimage\u001b[0m\u001b[0;34m(\u001b[0m\u001b[0;34m\"sciencelist_B_nova\"\u001b[0m\u001b[0;34m,\u001b[0m\u001b[0mredpath\u001b[0m\u001b[0;34m,\u001b[0m \u001b[0mflatpath\u001b[0m\u001b[0;34m,\u001b[0m \u001b[0;34m\"NovaB.fits\"\u001b[0m\u001b[0;34m)\u001b[0m\u001b[0;34m\u001b[0m\u001b[0;34m\u001b[0m\u001b[0m\n\u001b[1;32m      4\u001b[0m \u001b[0mcombineimage\u001b[0m\u001b[0;34m(\u001b[0m\u001b[0;34m\"sciencelist_V_NGC7128\"\u001b[0m\u001b[0;34m,\u001b[0m\u001b[0mredpath\u001b[0m\u001b[0;34m,\u001b[0m \u001b[0mflatpath\u001b[0m\u001b[0;34m,\u001b[0m \u001b[0;34m\"NGC7128V.fits\"\u001b[0m\u001b[0;34m)\u001b[0m\u001b[0;34m\u001b[0m\u001b[0;34m\u001b[0m\u001b[0m\n\u001b[1;32m      5\u001b[0m \u001b[0mcombineimage\u001b[0m\u001b[0;34m(\u001b[0m\u001b[0;34m\"sciencelist_B_NGC7128\"\u001b[0m\u001b[0;34m,\u001b[0m\u001b[0mredpath\u001b[0m\u001b[0;34m,\u001b[0m \u001b[0mflatpath\u001b[0m\u001b[0;34m,\u001b[0m \u001b[0;34m\"NGC7128B.fits\"\u001b[0m\u001b[0;34m)\u001b[0m\u001b[0;34m\u001b[0m\u001b[0;34m\u001b[0m\u001b[0m\n",
      "\u001b[0;32m<ipython-input-27-a7895bf0f66a>\u001b[0m in \u001b[0;36mcombineimage\u001b[0;34m(imlist_name, redpath, flatpath, savename)\u001b[0m\n\u001b[1;32m     32\u001b[0m             \u001b[0mimstr\u001b[0m \u001b[0;34m=\u001b[0m \u001b[0mflatpath\u001b[0m \u001b[0;34m+\u001b[0m \u001b[0mimname\u001b[0m\u001b[0;34m\u001b[0m\u001b[0;34m\u001b[0m\u001b[0m\n\u001b[1;32m     33\u001b[0m             \u001b[0;31m#read that into a CCDData object.  This allows you to specify a unit\u001b[0m\u001b[0;34m\u001b[0m\u001b[0;34m\u001b[0m\u001b[0;34m\u001b[0m\u001b[0m\n\u001b[0;32m---> 34\u001b[0;31m             \u001b[0mim\u001b[0m \u001b[0;34m=\u001b[0m \u001b[0mCCDData\u001b[0m\u001b[0;34m.\u001b[0m\u001b[0mread\u001b[0m\u001b[0;34m(\u001b[0m\u001b[0mimstr\u001b[0m\u001b[0;34m)\u001b[0m\u001b[0;34m\u001b[0m\u001b[0;34m\u001b[0m\u001b[0m\n\u001b[0m\u001b[1;32m     35\u001b[0m             \u001b[0;31m#make a list of all the CCDData instances of each image\u001b[0m\u001b[0;34m\u001b[0m\u001b[0;34m\u001b[0m\u001b[0;34m\u001b[0m\u001b[0m\n\u001b[1;32m     36\u001b[0m             \u001b[0msaveimlist\u001b[0m \u001b[0;34m=\u001b[0m \u001b[0mimlist\u001b[0m \u001b[0;34m+\u001b[0m \u001b[0;34m[\u001b[0m\u001b[0mim\u001b[0m\u001b[0;34m]\u001b[0m\u001b[0;34m\u001b[0m\u001b[0;34m\u001b[0m\u001b[0m\n",
      "\u001b[0;32m~/.conda/envs/python3env/lib/python3.7/site-packages/astropy/nddata/mixins/ndio.py\u001b[0m in \u001b[0;36m__call__\u001b[0;34m(self, *args, **kwargs)\u001b[0m\n\u001b[1;32m     52\u001b[0m \u001b[0;34m\u001b[0m\u001b[0m\n\u001b[1;32m     53\u001b[0m     \u001b[0;32mdef\u001b[0m \u001b[0m__call__\u001b[0m\u001b[0;34m(\u001b[0m\u001b[0mself\u001b[0m\u001b[0;34m,\u001b[0m \u001b[0;34m*\u001b[0m\u001b[0margs\u001b[0m\u001b[0;34m,\u001b[0m \u001b[0;34m**\u001b[0m\u001b[0mkwargs\u001b[0m\u001b[0;34m)\u001b[0m\u001b[0;34m:\u001b[0m\u001b[0;34m\u001b[0m\u001b[0;34m\u001b[0m\u001b[0m\n\u001b[0;32m---> 54\u001b[0;31m         \u001b[0;32mreturn\u001b[0m \u001b[0mregistry\u001b[0m\u001b[0;34m.\u001b[0m\u001b[0mread\u001b[0m\u001b[0;34m(\u001b[0m\u001b[0mself\u001b[0m\u001b[0;34m.\u001b[0m\u001b[0m_cls\u001b[0m\u001b[0;34m,\u001b[0m \u001b[0;34m*\u001b[0m\u001b[0margs\u001b[0m\u001b[0;34m,\u001b[0m \u001b[0;34m**\u001b[0m\u001b[0mkwargs\u001b[0m\u001b[0;34m)\u001b[0m\u001b[0;34m\u001b[0m\u001b[0;34m\u001b[0m\u001b[0m\n\u001b[0m\u001b[1;32m     55\u001b[0m \u001b[0;34m\u001b[0m\u001b[0m\n\u001b[1;32m     56\u001b[0m \u001b[0;34m\u001b[0m\u001b[0m\n",
      "\u001b[0;32m~/.conda/envs/python3env/lib/python3.7/site-packages/astropy/io/registry.py\u001b[0m in \u001b[0;36mread\u001b[0;34m(cls, format, *args, **kwargs)\u001b[0m\n\u001b[1;32m    506\u001b[0m                     \u001b[0;32mtry\u001b[0m\u001b[0;34m:\u001b[0m\u001b[0;34m\u001b[0m\u001b[0;34m\u001b[0m\u001b[0m\n\u001b[1;32m    507\u001b[0m                         \u001b[0mctx\u001b[0m \u001b[0;34m=\u001b[0m \u001b[0mget_readable_fileobj\u001b[0m\u001b[0;34m(\u001b[0m\u001b[0margs\u001b[0m\u001b[0;34m[\u001b[0m\u001b[0;36m0\u001b[0m\u001b[0;34m]\u001b[0m\u001b[0;34m,\u001b[0m \u001b[0mencoding\u001b[0m\u001b[0;34m=\u001b[0m\u001b[0;34m'binary'\u001b[0m\u001b[0;34m)\u001b[0m\u001b[0;34m\u001b[0m\u001b[0;34m\u001b[0m\u001b[0m\n\u001b[0;32m--> 508\u001b[0;31m                         \u001b[0mfileobj\u001b[0m \u001b[0;34m=\u001b[0m \u001b[0mctx\u001b[0m\u001b[0;34m.\u001b[0m\u001b[0m__enter__\u001b[0m\u001b[0;34m(\u001b[0m\u001b[0;34m)\u001b[0m\u001b[0;34m\u001b[0m\u001b[0;34m\u001b[0m\u001b[0m\n\u001b[0m\u001b[1;32m    509\u001b[0m                     \u001b[0;32mexcept\u001b[0m \u001b[0mOSError\u001b[0m\u001b[0;34m:\u001b[0m\u001b[0;34m\u001b[0m\u001b[0;34m\u001b[0m\u001b[0m\n\u001b[1;32m    510\u001b[0m                         \u001b[0;32mraise\u001b[0m\u001b[0;34m\u001b[0m\u001b[0;34m\u001b[0m\u001b[0m\n",
      "\u001b[0;32m~/.conda/envs/python3env/lib/python3.7/contextlib.py\u001b[0m in \u001b[0;36m__enter__\u001b[0;34m(self)\u001b[0m\n\u001b[1;32m    110\u001b[0m         \u001b[0;32mdel\u001b[0m \u001b[0mself\u001b[0m\u001b[0;34m.\u001b[0m\u001b[0margs\u001b[0m\u001b[0;34m,\u001b[0m \u001b[0mself\u001b[0m\u001b[0;34m.\u001b[0m\u001b[0mkwds\u001b[0m\u001b[0;34m,\u001b[0m \u001b[0mself\u001b[0m\u001b[0;34m.\u001b[0m\u001b[0mfunc\u001b[0m\u001b[0;34m\u001b[0m\u001b[0;34m\u001b[0m\u001b[0m\n\u001b[1;32m    111\u001b[0m         \u001b[0;32mtry\u001b[0m\u001b[0;34m:\u001b[0m\u001b[0;34m\u001b[0m\u001b[0;34m\u001b[0m\u001b[0m\n\u001b[0;32m--> 112\u001b[0;31m             \u001b[0;32mreturn\u001b[0m \u001b[0mnext\u001b[0m\u001b[0;34m(\u001b[0m\u001b[0mself\u001b[0m\u001b[0;34m.\u001b[0m\u001b[0mgen\u001b[0m\u001b[0;34m)\u001b[0m\u001b[0;34m\u001b[0m\u001b[0;34m\u001b[0m\u001b[0m\n\u001b[0m\u001b[1;32m    113\u001b[0m         \u001b[0;32mexcept\u001b[0m \u001b[0mStopIteration\u001b[0m\u001b[0;34m:\u001b[0m\u001b[0;34m\u001b[0m\u001b[0;34m\u001b[0m\u001b[0m\n\u001b[1;32m    114\u001b[0m             \u001b[0;32mraise\u001b[0m \u001b[0mRuntimeError\u001b[0m\u001b[0;34m(\u001b[0m\u001b[0;34m\"generator didn't yield\"\u001b[0m\u001b[0;34m)\u001b[0m \u001b[0;32mfrom\u001b[0m \u001b[0;32mNone\u001b[0m\u001b[0;34m\u001b[0m\u001b[0;34m\u001b[0m\u001b[0m\n",
      "\u001b[0;32m~/.conda/envs/python3env/lib/python3.7/site-packages/astropy/utils/data.py\u001b[0m in \u001b[0;36mget_readable_fileobj\u001b[0;34m(name_or_obj, encoding, cache, show_progress, remote_timeout)\u001b[0m\n\u001b[1;32m    191\u001b[0m                 \u001b[0mname_or_obj\u001b[0m\u001b[0;34m,\u001b[0m \u001b[0mcache\u001b[0m\u001b[0;34m=\u001b[0m\u001b[0mcache\u001b[0m\u001b[0;34m,\u001b[0m \u001b[0mshow_progress\u001b[0m\u001b[0;34m=\u001b[0m\u001b[0mshow_progress\u001b[0m\u001b[0;34m,\u001b[0m\u001b[0;34m\u001b[0m\u001b[0;34m\u001b[0m\u001b[0m\n\u001b[1;32m    192\u001b[0m                 timeout=remote_timeout)\n\u001b[0;32m--> 193\u001b[0;31m         \u001b[0mfileobj\u001b[0m \u001b[0;34m=\u001b[0m \u001b[0mio\u001b[0m\u001b[0;34m.\u001b[0m\u001b[0mFileIO\u001b[0m\u001b[0;34m(\u001b[0m\u001b[0mname_or_obj\u001b[0m\u001b[0;34m,\u001b[0m \u001b[0;34m'r'\u001b[0m\u001b[0;34m)\u001b[0m\u001b[0;34m\u001b[0m\u001b[0;34m\u001b[0m\u001b[0m\n\u001b[0m\u001b[1;32m    194\u001b[0m         \u001b[0;32mif\u001b[0m \u001b[0mis_url\u001b[0m \u001b[0;32mand\u001b[0m \u001b[0;32mnot\u001b[0m \u001b[0mcache\u001b[0m\u001b[0;34m:\u001b[0m\u001b[0;34m\u001b[0m\u001b[0;34m\u001b[0m\u001b[0m\n\u001b[1;32m    195\u001b[0m             \u001b[0mdelete_fds\u001b[0m\u001b[0;34m.\u001b[0m\u001b[0mappend\u001b[0m\u001b[0;34m(\u001b[0m\u001b[0mfileobj\u001b[0m\u001b[0;34m)\u001b[0m\u001b[0;34m\u001b[0m\u001b[0;34m\u001b[0m\u001b[0m\n",
      "\u001b[0;31mFileNotFoundError\u001b[0m: [Errno 2] No such file or directory: '/home/b739c775/RFSLAB/USER_DPT/b739c775/ASTR596/Data/Flatcorrected/s052_trbfy.fits'"
     ]
    }
   ],
   "source": [
    "combineimage(\"sciencelist_R_nova\",redpath, flatpath, \"NovaR.fits\")\n",
    "combineimage(\"sciencelist_V_nova\",redpath, flatpath, \"NovaV.fits\")\n",
    "combineimage(\"sciencelist_B_nova\",redpath, flatpath, \"NovaB.fits\")\n",
    "combineimage(\"sciencelist_V_NGC7128\",redpath, flatpath, \"NGC7128V.fits\")\n",
    "combineimage(\"sciencelist_B_NGC7128\",redpath, flatpath, \"NGC7128B.fits\")\n",
    "\n",
    "print(\"done\")"
   ]
  },
  {
   "cell_type": "code",
   "execution_count": null,
   "metadata": {},
   "outputs": [],
   "source": [
    "def badcol(k):\n",
    "    badcols = {1630, 1632, 631}\n",
    "    badcols.update(set(range(760,1000)))\n",
    "    if k not in badcols:\n",
    "        return True\n",
    "    else:\n",
    "        return False\n",
    "def badrow(w):\n",
    "    badrows = {513,514,1026,1027,1538}\n",
    "    badrows.update(set(range(1000,1200)))\n",
    "    if w not in badrows:\n",
    "        return True\n",
    "    else:\n",
    "        return False"
   ]
  },
  {
   "cell_type": "code",
   "execution_count": 81,
   "metadata": {},
   "outputs": [],
   "source": [
    "def starkiller(imname, redpath, savename):\n",
    "    imstr = redpath + imname \n",
    "    goodcol = list(filter(badcol, np.arange(2048))) #create array of indecies which are not bad pixels\n",
    "    goodrow = list(filter(badrow, range(2048))) #same as above\n",
    "    im = CCDData.read(imstr) #read in data\n",
    "    im = ccdproc.cosmicray_lacosmic(im, sigclip=4) #remove cosmic rays just to be thorough\n",
    "    for i in list(filter(badrow, range(200, len(im.data)-200))): #loop through each row in the image\n",
    "            if (np.max(im.data[i,goodcol])) > 1.055:  #if the maximum value in the row is larger than some threshhold\n",
    "                #print(\".\", end = '')\n",
    "                centerrow=i  #then look for the column which corresponds to the maximum of row i\n",
    "                print(np.amax(im.data[i,goodcol]))\n",
    "                r = 12      #radius of correction, must be bigger than star\n",
    "                #if (im.data[i,y]) == np.amax(im.data[i,goodrow]) and y != 1630 and y != 1632 and y != 631:\n",
    "                centercolumn= list(im.data[i,:]).index(np.max(np.array(im.data[i,goodcol]))) #return the index of the column which matches the max of row i\n",
    "                mij = centercolumn-r #create some parameters for use in the correction\n",
    "                maj = centercolumn+r\n",
    "                mirow = centerrow-r\n",
    "                marow = centerrow +r\n",
    "                diff = maj-mij\n",
    "                diff2 = 20\n",
    "                print(i,centercolumn)\n",
    "                im.data[mirow:marow, mij:maj] = (im.data[mirow:marow, (mij-diff2):(maj-diff2)]+im.data[mirow:marow,(mij+diff2):(maj+diff2)]+im.data[(mirow-diff2):(marow-diff2),mij:maj]+im.data[(mirow+diff2):(marow+diff2), mij:maj])/4\n",
    "                #this line consists of taking each pixel in the area to be corrected, \n",
    "                #taking the average of the four pixels distance r away in all four directions, \n",
    "                #and returning value to the original pixel, thus removing the star\n",
    "                #Everything after plots the center row's values to check that the star's influence is gone\n",
    "    fig, axes = plt.subplots(2, 1, figsize=(10, 10))\n",
    "    axes[0].set_ylim(bottom = np.median(im.data[centerrow,:]), top = np.median(im.data[centerrow,:]))\n",
    "    axes[0].hist(im[centerrow,:], bins = 100)\n",
    "    axes[1].scatter(range(len(np.asarray(im[centerrow,:]))), im[centerrow,:].data, marker = '.')\n",
    "    axes[1].set_ylim(bottom = np.median(im.data[centerrow,:]-.05), top = np.median(im.data[centerrow,:]+.05))\n",
    "    axes[1].set_xlim(left = centercolumn - 50, right = centercolumn +50)\n",
    "    plt.show()\n",
    "    im.write(redpath+savename, overwrite = True)"
   ]
  },
  {
   "cell_type": "code",
   "execution_count": 82,
   "metadata": {},
   "outputs": [
    {
     "name": "stdout",
     "output_type": "stream",
     "text": [
      "1.0552785\n",
      "1300 1202\n",
      "1.0559862\n",
      "1301 730\n",
      "1.0561953\n",
      "1355 1288\n",
      "1.0569333\n",
      "1357 1140\n",
      "1.0576953\n",
      "1358 1042\n",
      "1.0565716\n",
      "1373 756\n",
      "1.0899906\n",
      "1405 437\n",
      "1.059855\n",
      "1539 546\n"
     ]
    },
    {
     "name": "stderr",
     "output_type": "stream",
     "text": [
      "/home/b739c775/.conda/envs/python3env/lib/python3.7/site-packages/ipykernel_launcher.py:28: UserWarning: Attempting to set identical bottom == top == 1.0242164134979248 results in singular transformations; automatically expanding.\n"
     ]
    },
    {
     "data": {
      "image/png": "[encoded data removed]",
      "text/plain": [
       "<Figure size 720x720 with 2 Axes>"
      ]
     },
     "metadata": {
      "needs_background": "light"
     },
     "output_type": "display_data"
    }
   ],
   "source": [
    "starkiller(\"clippedmaster_flat_B.fits\", redpath, \"Bflat.fits\")"
   ]
  },
  {
   "cell_type": "code",
   "execution_count": null,
   "metadata": {},
   "outputs": [],
   "source": []
  },
  {
   "cell_type": "code",
   "execution_count": null,
   "metadata": {},
   "outputs": [],
   "source": []
  }
 ],
 "metadata": {
  "kernelspec": {
   "display_name": "Python 3",
   "language": "python",
   "name": "python3"
  },
  "language_info": {
   "codemirror_mode": {
    "name": "ipython",
    "version": 3
   },
   "file_extension": ".py",
   "mimetype": "text/x-python",
   "name": "python",
   "nbconvert_exporter": "python",
   "pygments_lexer": "ipython3",
   "version": "3.7.4"
  }
 },
 "nbformat": 4,
 "nbformat_minor": 2
}
